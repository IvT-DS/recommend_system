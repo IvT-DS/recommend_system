{
 "cells": [
  {
   "cell_type": "code",
   "execution_count": 2,
   "metadata": {},
   "outputs": [],
   "source": [
    "import pandas as pd\n",
    "import requests\n",
    "from bs4 import BeautifulSoup\n",
    "from tqdm import tqdm"
   ]
  },
  {
   "cell_type": "code",
   "execution_count": 4,
   "metadata": {},
   "outputs": [],
   "source": [
    "items_urls = []"
   ]
  },
  {
   "cell_type": "code",
   "execution_count": 8,
   "metadata": {},
   "outputs": [
    {
     "name": "stderr",
     "output_type": "stream",
     "text": [
      "100%|██████████| 271/271 [03:44<00:00,  1.21it/s]\n"
     ]
    }
   ],
   "source": [
    "for i in tqdm(range(1, 272)):\n",
    "    if i == 1:\n",
    "        end = '/'\n",
    "    else:\n",
    "        end = f'&page={i}'\n",
    "    link = f'https://kino.mail.ru/series/all/?order=rate_count&year=1999&year=2024{end}'\n",
    "    content = requests.get(link).content\n",
    "    soup = BeautifulSoup(content, 'lxml')\n",
    "    series = soup.find_all(class_='link link_inline link-holder link-holder_itemevent link-holder_itemevent_small')\n",
    "\n",
    "    for item in series:\n",
    "        item_page_url = item.get('href')\n",
    "        items_urls.append('https://kino.mail.ru' + item_page_url)"
   ]
  },
  {
   "cell_type": "code",
   "execution_count": 9,
   "metadata": {},
   "outputs": [
    {
     "data": {
      "text/plain": [
       "10000"
      ]
     },
     "execution_count": 9,
     "metadata": {},
     "output_type": "execute_result"
    }
   ],
   "source": [
    "urls = pd.DataFrame({'url':items_urls})\n",
    "urls.to_csv('urls_mail_ru.csv')\n",
    "\n",
    "items_urls = items_urls[:10000]\n",
    "\n",
    "len(items_urls)"
   ]
  },
  {
   "cell_type": "code",
   "execution_count": 10,
   "metadata": {},
   "outputs": [
    {
     "data": {
      "text/plain": [
       "'https://kino.mail.ru/series_756333_velikolepnii_vek/'"
      ]
     },
     "execution_count": 10,
     "metadata": {},
     "output_type": "execute_result"
    }
   ],
   "source": [
    "items_urls[0]"
   ]
  },
  {
   "cell_type": "code",
   "execution_count": 11,
   "metadata": {},
   "outputs": [],
   "source": [
    "l1, l2, l3, l4 = items_urls[:2500], items_urls[2500:5000], items_urls[5000:7500], items_urls[7500:10000]"
   ]
  },
  {
   "cell_type": "code",
   "execution_count": 12,
   "metadata": {},
   "outputs": [],
   "source": [
    "l5 = items_urls[2000:2500]"
   ]
  },
  {
   "cell_type": "code",
   "execution_count": 23,
   "metadata": {},
   "outputs": [
    {
     "name": "stderr",
     "output_type": "stream",
     "text": [
      "  3%|▎         | 77/2500 [02:37<14:47:09, 21.97s/it]"
     ]
    },
    {
     "name": "stdout",
     "output_type": "stream",
     "text": [
      "ссылка номер: 2576, ссылка: https://kino.mail.ru/series_769682_virtuozi/, ошибка: HTTPSConnectionPool(host='kino.mail.ru', port=443): Max retries exceeded with url: /series_769682_virtuozi/ (Caused by SSLError(SSLEOFError(8, '[SSL: UNEXPECTED_EOF_WHILE_READING] EOF occurred in violation of protocol (_ssl.c:1006)')))\n"
     ]
    },
    {
     "name": "stderr",
     "output_type": "stream",
     "text": [
      " 20%|██        | 501/2500 [07:57<24:29,  1.36it/s]  "
     ]
    },
    {
     "name": "stdout",
     "output_type": "stream",
     "text": [
      "500 saved\n"
     ]
    },
    {
     "name": "stderr",
     "output_type": "stream",
     "text": [
      " 40%|████      | 1001/2500 [14:09<17:40,  1.41it/s] "
     ]
    },
    {
     "name": "stdout",
     "output_type": "stream",
     "text": [
      "500 saved\n"
     ]
    },
    {
     "name": "stderr",
     "output_type": "stream",
     "text": [
      " 60%|██████    | 1501/2500 [20:03<11:54,  1.40it/s]"
     ]
    },
    {
     "name": "stdout",
     "output_type": "stream",
     "text": [
      "500 saved\n"
     ]
    },
    {
     "name": "stderr",
     "output_type": "stream",
     "text": [
      " 80%|████████  | 2001/2500 [25:51<04:57,  1.68it/s]"
     ]
    },
    {
     "name": "stdout",
     "output_type": "stream",
     "text": [
      "500 saved\n"
     ]
    },
    {
     "name": "stderr",
     "output_type": "stream",
     "text": [
      "100%|██████████| 2500/2500 [31:39<00:00,  1.32it/s]"
     ]
    },
    {
     "name": "stdout",
     "output_type": "stream",
     "text": [
      "499 saved\n"
     ]
    },
    {
     "name": "stderr",
     "output_type": "stream",
     "text": [
      "\n"
     ]
    }
   ],
   "source": [
    "titles = []\n",
    "sources = []\n",
    "descriptions = []\n",
    "ganres = []\n",
    "years = []\n",
    "posters = []\n",
    "casts = []\n",
    "ratings = []\n",
    "s = 1\n",
    "\n",
    "for url in tqdm(l2):\n",
    "    try:\n",
    "        text = requests.get(url).text\n",
    "        soup = BeautifulSoup(text, 'lxml')\n",
    "        try:\n",
    "            title = soup.find('h1', class_='text text_bold_giant color_white').text\n",
    "        \n",
    "            titles.append(title[:title.find(' (сери')])\n",
    "        except:\n",
    "            print('маслина')\n",
    "            titles.append(None)\n",
    "        # тянем постер\n",
    "        try:\n",
    "            picture_url = soup.find('meta', itemprop='image')['content']\n",
    "            posters.append(picture_url)\n",
    "        except:\n",
    "            posters.append(None)\n",
    "        # тянем жанры\n",
    "        try:\n",
    "            ganre = soup.find_all('span', class_='badge__text')\n",
    "            helper = []\n",
    "            for i in ganre:\n",
    "                helper.append(i.text)\n",
    "            ganres.append(helper)\n",
    "        except:\n",
    "            ganres.append(None)\n",
    "        # тянем cast\n",
    "        try:\n",
    "            cast = soup.find_all('span', class_='p-truncate__inner js-toggle__truncate-inner')\n",
    "            a = []\n",
    "            for act in cast:\n",
    "                a.append(act.text)\n",
    "            casts.append(a[1:4])\n",
    "        except:\n",
    "            casts.append(None)\n",
    "        try:\n",
    "            description = soup.find('div', class_='text text_inline text_light_medium text_fixed valign_baseline p-movie-info__description-text').text\n",
    "            descriptions.append(description.replace('\\xa0', ' '))\n",
    "        except:\n",
    "            descriptions.append(None)\n",
    "        # год\n",
    "        try:\n",
    "            year = soup.find('span', class_='nowrap').text\n",
    "            years.append(year.split()[:3])\n",
    "        except:\n",
    "            years.append(None)\n",
    "        # imdb\n",
    "        try:\n",
    "            rating = float(soup.find('span', class_='text text_bold_huge text_fixed').text)\n",
    "            ratings.append(rating)\n",
    "        except:\n",
    "            ratings.append(None)\n",
    "\n",
    "        sources.append(url)\n",
    "\n",
    "        if (len(sources) % 500 == 0) or (l2[-1] == url):\n",
    "            data = pd.DataFrame({'url':sources,\n",
    "                                'poster':posters,\n",
    "                                'title':titles,\n",
    "                                'ganres':ganres,\n",
    "                                'description':descriptions,\n",
    "                                'year':years,\n",
    "                                'rating':ratings,\n",
    "                                'cast':casts})\n",
    "            print(f'{len(data)} saved')\n",
    "\n",
    "            name = f'l2/data_{s}.csv'\n",
    "\n",
    "            data.to_csv(name)\n",
    "\n",
    "            s += 1\n",
    "            titles = []\n",
    "            sources = []\n",
    "            descriptions = []\n",
    "            ganres = []\n",
    "            years = []\n",
    "            posters = []\n",
    "            casts = []\n",
    "            ratings = []\n",
    "\n",
    "    except requests.exceptions.RequestException as e:\n",
    "        print(f\"ссылка номер: {items_urls.index(url)}, ссылка: {url}, ошибка: {e}\")\n",
    "\n",
    "    "
   ]
  },
  {
   "cell_type": "code",
   "execution_count": 15,
   "metadata": {},
   "outputs": [
    {
     "data": {
      "text/plain": [
       "499"
      ]
     },
     "execution_count": 15,
     "metadata": {},
     "output_type": "execute_result"
    }
   ],
   "source": [
    "len(titles)"
   ]
  },
  {
   "cell_type": "code",
   "execution_count": 24,
   "metadata": {},
   "outputs": [],
   "source": [
    "indx = [2576]\n",
    "urls_false = []\n",
    "for ind in indx:\n",
    "    urls_false.append(items_urls[ind])"
   ]
  },
  {
   "cell_type": "code",
   "execution_count": 25,
   "metadata": {},
   "outputs": [
    {
     "name": "stderr",
     "output_type": "stream",
     "text": [
      "100%|██████████| 1/1 [00:00<00:00,  1.31it/s]"
     ]
    },
    {
     "name": "stdout",
     "output_type": "stream",
     "text": [
      "1 saved\n"
     ]
    },
    {
     "name": "stderr",
     "output_type": "stream",
     "text": [
      "\n"
     ]
    }
   ],
   "source": [
    "def info_get(urls: str):\n",
    "\n",
    "    titles = []\n",
    "    sources = []\n",
    "    descriptions = []\n",
    "    ganres = []\n",
    "    years = []\n",
    "    posters = []\n",
    "    casts = []\n",
    "    ratings = []\n",
    "\n",
    "    for url in tqdm(urls):\n",
    "        try:\n",
    "            text = requests.get(url).text\n",
    "            soup = BeautifulSoup(text, \"lxml\")\n",
    "            try:\n",
    "                title = soup.find(\"h1\", class_=\"text text_bold_giant color_white\").text\n",
    "\n",
    "                titles.append(title[: title.find(\" (сери\")])\n",
    "            except:\n",
    "                print(\"маслина\")\n",
    "                titles.append(None)\n",
    "            # тянем постер\n",
    "            try:\n",
    "                picture_url = soup.find(\"meta\", itemprop=\"image\")[\"content\"]\n",
    "                posters.append(picture_url)\n",
    "            except:\n",
    "                posters.append(None)\n",
    "            # тянем жанры\n",
    "            try:\n",
    "                ganre = soup.find_all(\"span\", class_=\"badge__text\")\n",
    "                helper = []\n",
    "                for i in ganre:\n",
    "                    helper.append(i.text)\n",
    "                ganres.append(helper)\n",
    "            except:\n",
    "                ganres.append(None)\n",
    "            # тянем cast\n",
    "            try:\n",
    "                cast = soup.find_all(\n",
    "                    \"span\", class_=\"p-truncate__inner js-toggle__truncate-inner\"\n",
    "                )\n",
    "                a = []\n",
    "                for act in cast:\n",
    "                    a.append(act.text)\n",
    "                casts.append(a[1:4])\n",
    "            except:\n",
    "                casts.append(None)\n",
    "            # тянем описание\n",
    "            try:\n",
    "                description = soup.find(\n",
    "                    \"div\",\n",
    "                    class_=\"text text_inline text_light_medium text_fixed valign_baseline p-movie-info__description-text\",\n",
    "                ).text\n",
    "                descriptions.append(description.replace(\"\\xa0\", \" \"))\n",
    "            except:\n",
    "                descriptions.append(None)\n",
    "            # год\n",
    "            try:\n",
    "                year = soup.find(\"span\", class_=\"nowrap\").text\n",
    "                years.append(year.split()[:3])\n",
    "            except:\n",
    "                years.append(None)\n",
    "            # imdb\n",
    "            try:\n",
    "                rating = float(\n",
    "                    soup.find(\"span\", class_=\"text text_bold_huge text_fixed\").text\n",
    "                )\n",
    "                ratings.append(rating)\n",
    "            except:\n",
    "                ratings.append(None)\n",
    "\n",
    "            sources.append(url)\n",
    "\n",
    "            if len(sources) == len(urls):\n",
    "                data = pd.DataFrame(\n",
    "                    {\n",
    "                        \"url\": sources,\n",
    "                        \"poster\": posters,\n",
    "                        \"title\": titles,\n",
    "                        \"ganres\": ganres,\n",
    "                        \"description\": descriptions,\n",
    "                        \"year\": years,\n",
    "                        \"rating\": ratings,\n",
    "                        \"cast\": casts,\n",
    "                    }\n",
    "                )\n",
    "\n",
    "                print(f\"{len(data)} saved\")\n",
    "                name = f\"l2/data_{666}.csv\"\n",
    "\n",
    "                data.to_csv(name)\n",
    "\n",
    "                titles = []\n",
    "                sources = []\n",
    "                descriptions = []\n",
    "                ganres = []\n",
    "                years = []\n",
    "                posters = []\n",
    "                casts = []\n",
    "                ratings = []\n",
    "\n",
    "        except requests.exceptions.RequestException as e:\n",
    "            print(f\"ссылка номер: {items_urls.index(url)}, ссылка: {url}, ошибка: {e}\")\n",
    "\n",
    "\n",
    "info_get(urls_false)"
   ]
  },
  {
   "cell_type": "code",
   "execution_count": 17,
   "metadata": {},
   "outputs": [
    {
     "name": "stdout",
     "output_type": "stream",
     "text": [
      "499 saved\n"
     ]
    }
   ],
   "source": [
    "data = pd.DataFrame({'url':sources,\n",
    "                                'poster':posters,\n",
    "                                'title':titles,\n",
    "                                'ganres':ganres,\n",
    "                                'description':descriptions,\n",
    "                                'year':years,\n",
    "                                'rating':ratings,\n",
    "                                'cast':casts})\n",
    "print(f'{len(data)} saved')\n",
    "name = f'l1/data_{5}.csv'\n",
    "\n",
    "data.to_csv(name)"
   ]
  },
  {
   "cell_type": "code",
   "execution_count": 13,
   "metadata": {},
   "outputs": [
    {
     "ename": "IndexError",
     "evalue": "list index out of range",
     "output_type": "error",
     "traceback": [
      "\u001b[0;31m---------------------------------------------------------------------------\u001b[0m",
      "\u001b[0;31mIndexError\u001b[0m                                Traceback (most recent call last)",
      "Cell \u001b[0;32mIn[13], line 1\u001b[0m\n\u001b[0;32m----> 1\u001b[0m \u001b[43ml1\u001b[49m\u001b[43m[\u001b[49m\u001b[38;5;241;43m2500\u001b[39;49m\u001b[43m]\u001b[49m\n",
      "\u001b[0;31mIndexError\u001b[0m: list index out of range"
     ]
    }
   ],
   "source": [
    "l1[2500]"
   ]
  },
  {
   "cell_type": "code",
   "execution_count": 8,
   "metadata": {},
   "outputs": [
    {
     "data": {
      "text/plain": [
       "2500"
      ]
     },
     "execution_count": 8,
     "metadata": {},
     "output_type": "execute_result"
    }
   ],
   "source": [
    "len(l1)"
   ]
  },
  {
   "cell_type": "code",
   "execution_count": 29,
   "metadata": {},
   "outputs": [],
   "source": [
    "import os\n",
    "\n",
    "directory = \"l1_l2\"  # 'l4'\n",
    "\n",
    "for i, filename in enumerate(os.listdir(directory)):\n",
    "    path = os.path.join(directory, filename)\n",
    "    if i == 0:\n",
    "        df = pd.read_csv(path).drop(\"Unnamed: 0\", axis=1)\n",
    "    else:\n",
    "        df2 = pd.read_csv(path).drop(\"Unnamed: 0\", axis=1)\n",
    "        df = pd.concat([df, df2])\n",
    "\n",
    "df.to_csv(\"l1_l2/first5000.csv\")"
   ]
  },
  {
   "cell_type": "code",
   "execution_count": 34,
   "metadata": {},
   "outputs": [
    {
     "name": "stdout",
     "output_type": "stream",
     "text": [
      "<class 'pandas.core.frame.DataFrame'>\n",
      "Index: 5000 entries, 0 to 5001\n",
      "Data columns (total 9 columns):\n",
      " #   Column       Non-Null Count  Dtype  \n",
      "---  ------       --------------  -----  \n",
      " 0   Unnamed: 0   5000 non-null   int64  \n",
      " 1   url          5000 non-null   object \n",
      " 2   poster       5000 non-null   object \n",
      " 3   title        5000 non-null   object \n",
      " 4   ganres       5000 non-null   object \n",
      " 5   description  5000 non-null   object \n",
      " 6   year         5000 non-null   object \n",
      " 7   rating       4017 non-null   float64\n",
      " 8   cast         5000 non-null   object \n",
      "dtypes: float64(1), int64(1), object(7)\n",
      "memory usage: 390.6+ KB\n"
     ]
    }
   ],
   "source": [
    "df = pd.read_csv(\"l1_l2/first5000.csv\")\n",
    "df.drop_duplicates(subset=[\"url\"]).info()"
   ]
  },
  {
   "cell_type": "code",
   "execution_count": 35,
   "metadata": {},
   "outputs": [],
   "source": [
    "df.to_csv(\"l1_l2/first5000drop.csv\")"
   ]
  },
  {
   "cell_type": "code",
   "execution_count": 36,
   "metadata": {},
   "outputs": [],
   "source": [
    "# Определите функцию для извлечения года\n",
    "def extract_first_year(year_string):\n",
    "    # Удаление символов квадратных скобок\n",
    "    year_string = year_string.strip(\"[]\")\n",
    "    # Разделение строки по запятой и извлечение первого элемента\n",
    "    first_year = year_string.split(\",\")[0].strip(\" '\\\"\")\n",
    "    return first_year"
   ]
  },
  {
   "cell_type": "code",
   "execution_count": 37,
   "metadata": {},
   "outputs": [],
   "source": [
    "df = pd.read_csv(\"data_mail.csv\")"
   ]
  },
  {
   "cell_type": "code",
   "execution_count": 38,
   "metadata": {},
   "outputs": [],
   "source": [
    "# Примените функцию ко всему столбцу 'year'\n",
    "df[\"year1\"] = df[\"year\"].apply(extract_first_year)"
   ]
  },
  {
   "cell_type": "code",
   "execution_count": 41,
   "metadata": {},
   "outputs": [],
   "source": [
    "import ast\n",
    "\n",
    "# Функция для преобразования строки в желаемый формат\n",
    "def format_genres(genre_string):\n",
    "    # Оцените строку как список, если она не в списковом формате\n",
    "    if isinstance(genre_string, str):\n",
    "        genres_list = ast.literal_eval(genre_string)\n",
    "    else:\n",
    "        genres_list = genre_string  # Если это уже список\n",
    "\n",
    "    # Преобразуйте каждый элемент списка в строку с заглавной буквы\n",
    "    genres_list = [genre.capitalize() for genre in genres_list]\n",
    "\n",
    "    # Объедините элементы списка в одну строку через запятую\n",
    "    return \", \".join(genres_list)"
   ]
  },
  {
   "cell_type": "code",
   "execution_count": 42,
   "metadata": {},
   "outputs": [],
   "source": [
    "# Примените функцию ко всему столбцу 'genres'\n",
    "df[\"genres\"] = df[\"ganres\"].apply(format_genres)"
   ]
  },
  {
   "cell_type": "code",
   "execution_count": 43,
   "metadata": {},
   "outputs": [
    {
     "data": {
      "text/html": [
       "<div>\n",
       "<style scoped>\n",
       "    .dataframe tbody tr th:only-of-type {\n",
       "        vertical-align: middle;\n",
       "    }\n",
       "\n",
       "    .dataframe tbody tr th {\n",
       "        vertical-align: top;\n",
       "    }\n",
       "\n",
       "    .dataframe thead th {\n",
       "        text-align: right;\n",
       "    }\n",
       "</style>\n",
       "<table border=\"1\" class=\"dataframe\">\n",
       "  <thead>\n",
       "    <tr style=\"text-align: right;\">\n",
       "      <th></th>\n",
       "      <th>url</th>\n",
       "      <th>poster</th>\n",
       "      <th>title</th>\n",
       "      <th>ganres</th>\n",
       "      <th>description</th>\n",
       "      <th>year</th>\n",
       "      <th>rating</th>\n",
       "      <th>cast</th>\n",
       "      <th>year1</th>\n",
       "      <th>genres</th>\n",
       "    </tr>\n",
       "  </thead>\n",
       "  <tbody>\n",
       "    <tr>\n",
       "      <th>0</th>\n",
       "      <td>https://kino.mail.ru/series_776858_opera_hroni...</td>\n",
       "      <td>https://resizer.mail.ru/p/9667363a-0ebb-5334-8...</td>\n",
       "      <td>Опера: Хроники убойного отдела</td>\n",
       "      <td>['боевик', 'криминал', 'детектив']</td>\n",
       "      <td>Абдулова, Ларин, Дукалис и Мухомор — главные г...</td>\n",
       "      <td>['2004', '—', '2006']</td>\n",
       "      <td>6.5</td>\n",
       "      <td>['Владимир Шевельков, Юрий Кузнецов, Анастасия...</td>\n",
       "      <td>2004</td>\n",
       "      <td>Боевик, Криминал, Детектив</td>\n",
       "    </tr>\n",
       "    <tr>\n",
       "      <th>1</th>\n",
       "      <td>https://kino.mail.ru/series_932003_pingvini_mo...</td>\n",
       "      <td>https://resizer.mail.ru/p/355bff9e-6259-5c97-9...</td>\n",
       "      <td>Пингвины моей мамы</td>\n",
       "      <td>['драма', 'комедия']</td>\n",
       "      <td>Гоша — обычный 15-летний московский школьник. ...</td>\n",
       "      <td>['2021', '(Сериал', 'закончился)']</td>\n",
       "      <td>7.1</td>\n",
       "      <td>['Макар Хлебников, Александра Урсуляк, Алексей...</td>\n",
       "      <td>2021</td>\n",
       "      <td>Драма, Комедия</td>\n",
       "    </tr>\n",
       "    <tr>\n",
       "      <th>2</th>\n",
       "      <td>https://kino.mail.ru/series_811036_silnee_sudbi/</td>\n",
       "      <td>https://resizer.mail.ru/p/529905e7-f544-5640-a...</td>\n",
       "      <td>Сильнее судьбы</td>\n",
       "      <td>['мелодрама']</td>\n",
       "      <td>Героиня сериала «Сильнее судьбы» Аня Колчина —...</td>\n",
       "      <td>['2014', '(Сериал', 'закончился)']</td>\n",
       "      <td>5.8</td>\n",
       "      <td>['Наталия Антонова, Анастасия Ричи, Любовь Тол...</td>\n",
       "      <td>2014</td>\n",
       "      <td>Мелодрама</td>\n",
       "    </tr>\n",
       "    <tr>\n",
       "      <th>3</th>\n",
       "      <td>https://kino.mail.ru/series_795532_vtorzhenie_...</td>\n",
       "      <td>https://resizer.mail.ru/p/e6e44d1a-5a23-58c3-b...</td>\n",
       "      <td>Атака титанов</td>\n",
       "      <td>['драма', 'фэнтези', 'боевик', 'аниме', 'мульт...</td>\n",
       "      <td>Гиганты это огромные существа, ростом с многоэ...</td>\n",
       "      <td>['2013', '—', '2023']</td>\n",
       "      <td>7.6</td>\n",
       "      <td>['Юки Кадзи, Марина Иноуэ, Юи Исикава, Кисё Та...</td>\n",
       "      <td>2013</td>\n",
       "      <td>Драма, Фэнтези, Боевик, Аниме, Мультсериалы</td>\n",
       "    </tr>\n",
       "    <tr>\n",
       "      <th>4</th>\n",
       "      <td>https://kino.mail.ru/series_902636_maiya/</td>\n",
       "      <td>https://resizer.mail.ru/p/5e902e02-ca71-5661-8...</td>\n",
       "      <td>Майя</td>\n",
       "      <td>['детектив']</td>\n",
       "      <td>Год назад 15-летняя Майя пережила страшную тра...</td>\n",
       "      <td>['2016', '(Сериал', 'закончился)']</td>\n",
       "      <td>7.1</td>\n",
       "      <td>['Мария Белоненко, Елена Оболенская, Александр...</td>\n",
       "      <td>2016</td>\n",
       "      <td>Детектив</td>\n",
       "    </tr>\n",
       "    <tr>\n",
       "      <th>...</th>\n",
       "      <td>...</td>\n",
       "      <td>...</td>\n",
       "      <td>...</td>\n",
       "      <td>...</td>\n",
       "      <td>...</td>\n",
       "      <td>...</td>\n",
       "      <td>...</td>\n",
       "      <td>...</td>\n",
       "      <td>...</td>\n",
       "      <td>...</td>\n",
       "    </tr>\n",
       "    <tr>\n",
       "      <th>9994</th>\n",
       "      <td>https://kino.mail.ru/series_917662_grezi/</td>\n",
       "      <td>https://resizer.mail.ru/p/c2285ef7-bb15-5710-b...</td>\n",
       "      <td>Грезы</td>\n",
       "      <td>['драма', 'триллер']</td>\n",
       "      <td>Главная героиня сериала «Грезы» — бывший детек...</td>\n",
       "      <td>['2018', '(Сериал', 'закончился)']</td>\n",
       "      <td>NaN</td>\n",
       "      <td>['Сара Шахи, Деннис Хейсберт, Кэтрин Моррис, Д...</td>\n",
       "      <td>2018</td>\n",
       "      <td>Драма, Триллер</td>\n",
       "    </tr>\n",
       "    <tr>\n",
       "      <th>9995</th>\n",
       "      <td>https://kino.mail.ru/series_933510_dvadtsat_py...</td>\n",
       "      <td>https://resizer.mail.ru/p/4a1a2425-c648-52ef-a...</td>\n",
       "      <td>Двадцать пять и двадцать один</td>\n",
       "      <td>['драма', 'мелодрама', 'спорт']</td>\n",
       "      <td>Действие сериала разворачивается в Южной Корее...</td>\n",
       "      <td>['2022', '(Сериал', 'закончился)']</td>\n",
       "      <td>NaN</td>\n",
       "      <td>['Ким Тхэ-ри, Нам Джу-хек, Пона, Чхве Хен-ук, ...</td>\n",
       "      <td>2022</td>\n",
       "      <td>Драма, Мелодрама, Спорт</td>\n",
       "    </tr>\n",
       "    <tr>\n",
       "      <th>9996</th>\n",
       "      <td>https://kino.mail.ru/series_922104_dve_materi/</td>\n",
       "      <td>https://resizer.mail.ru/p/c43b775b-17f3-52ea-a...</td>\n",
       "      <td>Две матери</td>\n",
       "      <td>['драма', 'мелодрама']</td>\n",
       "      <td>Неожиданная смерть Сергея, погибшего в автокат...</td>\n",
       "      <td>['2018', '(Сериал', 'закончился)']</td>\n",
       "      <td>NaN</td>\n",
       "      <td>['Ольга Атанасова, Зоряна Марченко, Михаил Пше...</td>\n",
       "      <td>2018</td>\n",
       "      <td>Драма, Мелодрама</td>\n",
       "    </tr>\n",
       "    <tr>\n",
       "      <th>9997</th>\n",
       "      <td>https://kino.mail.ru/series_918539_dobro_pozha...</td>\n",
       "      <td>https://resizer.mail.ru/p/7dbf4fcf-9ff4-59ed-a...</td>\n",
       "      <td>Добро пожаловать в бальный зал</td>\n",
       "      <td>['аниме', 'музыкальные']</td>\n",
       "      <td>Татара — ученик средней школы и типичный интро...</td>\n",
       "      <td>['2017', '(Сериал', 'закончился)']</td>\n",
       "      <td>NaN</td>\n",
       "      <td>['Симба Цутия, Аянэ Сакура, Нобухико Окамото, ...</td>\n",
       "      <td>2017</td>\n",
       "      <td>Аниме, Музыкальные</td>\n",
       "    </tr>\n",
       "    <tr>\n",
       "      <th>9998</th>\n",
       "      <td>https://kino.mail.ru/series_932820_dog_i_poni_...</td>\n",
       "      <td>https://resizer.mail.ru/p/31b6f287-8abf-56af-a...</td>\n",
       "      <td>Дог и Пони Суперхвост</td>\n",
       "      <td>['комедия', 'для детей', 'мультсериалы']</td>\n",
       "      <td>Дог и Пони — лучшие друзья, они живут в сказоч...</td>\n",
       "      <td>['2020', '—', '2021']</td>\n",
       "      <td>NaN</td>\n",
       "      <td>['Джэми Уотсон, Стивен Галлахер, Стэйси ДеПасс...</td>\n",
       "      <td>2020</td>\n",
       "      <td>Комедия, Для детей, Мультсериалы</td>\n",
       "    </tr>\n",
       "  </tbody>\n",
       "</table>\n",
       "<p>9999 rows × 10 columns</p>\n",
       "</div>"
      ],
      "text/plain": [
       "                                                    url  \\\n",
       "0     https://kino.mail.ru/series_776858_opera_hroni...   \n",
       "1     https://kino.mail.ru/series_932003_pingvini_mo...   \n",
       "2      https://kino.mail.ru/series_811036_silnee_sudbi/   \n",
       "3     https://kino.mail.ru/series_795532_vtorzhenie_...   \n",
       "4             https://kino.mail.ru/series_902636_maiya/   \n",
       "...                                                 ...   \n",
       "9994          https://kino.mail.ru/series_917662_grezi/   \n",
       "9995  https://kino.mail.ru/series_933510_dvadtsat_py...   \n",
       "9996     https://kino.mail.ru/series_922104_dve_materi/   \n",
       "9997  https://kino.mail.ru/series_918539_dobro_pozha...   \n",
       "9998  https://kino.mail.ru/series_932820_dog_i_poni_...   \n",
       "\n",
       "                                                 poster  \\\n",
       "0     https://resizer.mail.ru/p/9667363a-0ebb-5334-8...   \n",
       "1     https://resizer.mail.ru/p/355bff9e-6259-5c97-9...   \n",
       "2     https://resizer.mail.ru/p/529905e7-f544-5640-a...   \n",
       "3     https://resizer.mail.ru/p/e6e44d1a-5a23-58c3-b...   \n",
       "4     https://resizer.mail.ru/p/5e902e02-ca71-5661-8...   \n",
       "...                                                 ...   \n",
       "9994  https://resizer.mail.ru/p/c2285ef7-bb15-5710-b...   \n",
       "9995  https://resizer.mail.ru/p/4a1a2425-c648-52ef-a...   \n",
       "9996  https://resizer.mail.ru/p/c43b775b-17f3-52ea-a...   \n",
       "9997  https://resizer.mail.ru/p/7dbf4fcf-9ff4-59ed-a...   \n",
       "9998  https://resizer.mail.ru/p/31b6f287-8abf-56af-a...   \n",
       "\n",
       "                               title  \\\n",
       "0     Опера: Хроники убойного отдела   \n",
       "1                 Пингвины моей мамы   \n",
       "2                     Сильнее судьбы   \n",
       "3                      Атака титанов   \n",
       "4                               Майя   \n",
       "...                              ...   \n",
       "9994                           Грезы   \n",
       "9995   Двадцать пять и двадцать один   \n",
       "9996                      Две матери   \n",
       "9997  Добро пожаловать в бальный зал   \n",
       "9998           Дог и Пони Суперхвост   \n",
       "\n",
       "                                                 ganres  \\\n",
       "0                    ['боевик', 'криминал', 'детектив']   \n",
       "1                                  ['драма', 'комедия']   \n",
       "2                                         ['мелодрама']   \n",
       "3     ['драма', 'фэнтези', 'боевик', 'аниме', 'мульт...   \n",
       "4                                          ['детектив']   \n",
       "...                                                 ...   \n",
       "9994                               ['драма', 'триллер']   \n",
       "9995                    ['драма', 'мелодрама', 'спорт']   \n",
       "9996                             ['драма', 'мелодрама']   \n",
       "9997                           ['аниме', 'музыкальные']   \n",
       "9998           ['комедия', 'для детей', 'мультсериалы']   \n",
       "\n",
       "                                            description  \\\n",
       "0     Абдулова, Ларин, Дукалис и Мухомор — главные г...   \n",
       "1     Гоша — обычный 15-летний московский школьник. ...   \n",
       "2     Героиня сериала «Сильнее судьбы» Аня Колчина —...   \n",
       "3     Гиганты это огромные существа, ростом с многоэ...   \n",
       "4     Год назад 15-летняя Майя пережила страшную тра...   \n",
       "...                                                 ...   \n",
       "9994  Главная героиня сериала «Грезы» — бывший детек...   \n",
       "9995  Действие сериала разворачивается в Южной Корее...   \n",
       "9996  Неожиданная смерть Сергея, погибшего в автокат...   \n",
       "9997  Татара — ученик средней школы и типичный интро...   \n",
       "9998  Дог и Пони — лучшие друзья, они живут в сказоч...   \n",
       "\n",
       "                                    year  rating  \\\n",
       "0                  ['2004', '—', '2006']     6.5   \n",
       "1     ['2021', '(Сериал', 'закончился)']     7.1   \n",
       "2     ['2014', '(Сериал', 'закончился)']     5.8   \n",
       "3                  ['2013', '—', '2023']     7.6   \n",
       "4     ['2016', '(Сериал', 'закончился)']     7.1   \n",
       "...                                  ...     ...   \n",
       "9994  ['2018', '(Сериал', 'закончился)']     NaN   \n",
       "9995  ['2022', '(Сериал', 'закончился)']     NaN   \n",
       "9996  ['2018', '(Сериал', 'закончился)']     NaN   \n",
       "9997  ['2017', '(Сериал', 'закончился)']     NaN   \n",
       "9998               ['2020', '—', '2021']     NaN   \n",
       "\n",
       "                                                   cast year1  \\\n",
       "0     ['Владимир Шевельков, Юрий Кузнецов, Анастасия...  2004   \n",
       "1     ['Макар Хлебников, Александра Урсуляк, Алексей...  2021   \n",
       "2     ['Наталия Антонова, Анастасия Ричи, Любовь Тол...  2014   \n",
       "3     ['Юки Кадзи, Марина Иноуэ, Юи Исикава, Кисё Та...  2013   \n",
       "4     ['Мария Белоненко, Елена Оболенская, Александр...  2016   \n",
       "...                                                 ...   ...   \n",
       "9994  ['Сара Шахи, Деннис Хейсберт, Кэтрин Моррис, Д...  2018   \n",
       "9995  ['Ким Тхэ-ри, Нам Джу-хек, Пона, Чхве Хен-ук, ...  2022   \n",
       "9996  ['Ольга Атанасова, Зоряна Марченко, Михаил Пше...  2018   \n",
       "9997  ['Симба Цутия, Аянэ Сакура, Нобухико Окамото, ...  2017   \n",
       "9998  ['Джэми Уотсон, Стивен Галлахер, Стэйси ДеПасс...  2020   \n",
       "\n",
       "                                           genres  \n",
       "0                      Боевик, Криминал, Детектив  \n",
       "1                                  Драма, Комедия  \n",
       "2                                       Мелодрама  \n",
       "3     Драма, Фэнтези, Боевик, Аниме, Мультсериалы  \n",
       "4                                        Детектив  \n",
       "...                                           ...  \n",
       "9994                               Драма, Триллер  \n",
       "9995                      Драма, Мелодрама, Спорт  \n",
       "9996                             Драма, Мелодрама  \n",
       "9997                           Аниме, Музыкальные  \n",
       "9998             Комедия, Для детей, Мультсериалы  \n",
       "\n",
       "[9999 rows x 10 columns]"
      ]
     },
     "execution_count": 43,
     "metadata": {},
     "output_type": "execute_result"
    }
   ],
   "source": [
    "df"
   ]
  }
 ],
 "metadata": {
  "kernelspec": {
   "display_name": ".venv",
   "language": "python",
   "name": "python3"
  },
  "language_info": {
   "codemirror_mode": {
    "name": "ipython",
    "version": 3
   },
   "file_extension": ".py",
   "mimetype": "text/x-python",
   "name": "python",
   "nbconvert_exporter": "python",
   "pygments_lexer": "ipython3",
   "version": "3.11.5"
  }
 },
 "nbformat": 4,
 "nbformat_minor": 2
}
