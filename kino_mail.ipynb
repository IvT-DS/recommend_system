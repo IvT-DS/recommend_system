{
 "cells": [
  {
   "cell_type": "code",
   "execution_count": 2,
   "metadata": {},
   "outputs": [],
   "source": [
    "import pandas as pd\n",
    "import requests\n",
    "from bs4 import BeautifulSoup\n",
    "from tqdm import tqdm"
   ]
  },
  {
   "cell_type": "code",
   "execution_count": 4,
   "metadata": {},
   "outputs": [],
   "source": [
    "items_urls = []"
   ]
  },
  {
   "cell_type": "code",
   "execution_count": 8,
   "metadata": {},
   "outputs": [
    {
     "name": "stderr",
     "output_type": "stream",
     "text": [
      "100%|██████████| 271/271 [03:44<00:00,  1.21it/s]\n"
     ]
    }
   ],
   "source": [
    "for i in tqdm(range(1, 272)):\n",
    "    if i == 1:\n",
    "        end = '/'\n",
    "    else:\n",
    "        end = f'&page={i}'\n",
    "    link = f'https://kino.mail.ru/series/all/?order=rate_count&year=1999&year=2024{end}'\n",
    "    content = requests.get(link).content\n",
    "    soup = BeautifulSoup(content, 'lxml')\n",
    "    series = soup.find_all(class_='link link_inline link-holder link-holder_itemevent link-holder_itemevent_small')\n",
    "\n",
    "    for item in series:\n",
    "        item_page_url = item.get('href')\n",
    "        items_urls.append('https://kino.mail.ru' + item_page_url)"
   ]
  },
  {
   "cell_type": "code",
   "execution_count": 9,
   "metadata": {},
   "outputs": [
    {
     "data": {
      "text/plain": [
       "10000"
      ]
     },
     "execution_count": 9,
     "metadata": {},
     "output_type": "execute_result"
    }
   ],
   "source": [
    "urls = pd.DataFrame({'url':items_urls})\n",
    "urls.to_csv('urls_mail_ru.csv')\n",
    "\n",
    "items_urls = items_urls[:10000]\n",
    "\n",
    "len(items_urls)"
   ]
  },
  {
   "cell_type": "code",
   "execution_count": 10,
   "metadata": {},
   "outputs": [
    {
     "data": {
      "text/plain": [
       "'https://kino.mail.ru/series_756333_velikolepnii_vek/'"
      ]
     },
     "execution_count": 10,
     "metadata": {},
     "output_type": "execute_result"
    }
   ],
   "source": [
    "items_urls[0]"
   ]
  },
  {
   "cell_type": "code",
   "execution_count": 11,
   "metadata": {},
   "outputs": [],
   "source": [
    "l1, l2, l3, l4 = items_urls[:2500], items_urls[2500:5000], items_urls[5000:7500], items_urls[7500:10000]"
   ]
  },
  {
   "cell_type": "code",
   "execution_count": 12,
   "metadata": {},
   "outputs": [],
   "source": [
    "l5 = items_urls[2000:2500]"
   ]
  },
  {
   "cell_type": "code",
   "execution_count": 23,
   "metadata": {},
   "outputs": [
    {
     "name": "stderr",
     "output_type": "stream",
     "text": [
      "  3%|▎         | 77/2500 [02:37<14:47:09, 21.97s/it]"
     ]
    },
    {
     "name": "stdout",
     "output_type": "stream",
     "text": [
      "ссылка номер: 2576, ссылка: https://kino.mail.ru/series_769682_virtuozi/, ошибка: HTTPSConnectionPool(host='kino.mail.ru', port=443): Max retries exceeded with url: /series_769682_virtuozi/ (Caused by SSLError(SSLEOFError(8, '[SSL: UNEXPECTED_EOF_WHILE_READING] EOF occurred in violation of protocol (_ssl.c:1006)')))\n"
     ]
    },
    {
     "name": "stderr",
     "output_type": "stream",
     "text": [
      " 20%|██        | 501/2500 [07:57<24:29,  1.36it/s]  "
     ]
    },
    {
     "name": "stdout",
     "output_type": "stream",
     "text": [
      "500 saved\n"
     ]
    },
    {
     "name": "stderr",
     "output_type": "stream",
     "text": [
      " 40%|████      | 1001/2500 [14:09<17:40,  1.41it/s] "
     ]
    },
    {
     "name": "stdout",
     "output_type": "stream",
     "text": [
      "500 saved\n"
     ]
    },
    {
     "name": "stderr",
     "output_type": "stream",
     "text": [
      " 60%|██████    | 1501/2500 [20:03<11:54,  1.40it/s]"
     ]
    },
    {
     "name": "stdout",
     "output_type": "stream",
     "text": [
      "500 saved\n"
     ]
    },
    {
     "name": "stderr",
     "output_type": "stream",
     "text": [
      " 80%|████████  | 2001/2500 [25:51<04:57,  1.68it/s]"
     ]
    },
    {
     "name": "stdout",
     "output_type": "stream",
     "text": [
      "500 saved\n"
     ]
    },
    {
     "name": "stderr",
     "output_type": "stream",
     "text": [
      "100%|██████████| 2500/2500 [31:39<00:00,  1.32it/s]"
     ]
    },
    {
     "name": "stdout",
     "output_type": "stream",
     "text": [
      "499 saved\n"
     ]
    },
    {
     "name": "stderr",
     "output_type": "stream",
     "text": [
      "\n"
     ]
    }
   ],
   "source": [
    "titles = []\n",
    "sources = []\n",
    "descriptions = []\n",
    "ganres = []\n",
    "years = []\n",
    "posters = []\n",
    "casts = []\n",
    "ratings = []\n",
    "s = 1\n",
    "\n",
    "for url in tqdm(l2):\n",
    "    try:\n",
    "        text = requests.get(url).text\n",
    "        soup = BeautifulSoup(text, 'lxml')\n",
    "        try:\n",
    "            title = soup.find('h1', class_='text text_bold_giant color_white').text\n",
    "        \n",
    "            titles.append(title[:title.find(' (сери')])\n",
    "        except:\n",
    "            print('маслина')\n",
    "            titles.append(None)\n",
    "        # тянем постер\n",
    "        try:\n",
    "            picture_url = soup.find('meta', itemprop='image')['content']\n",
    "            posters.append(picture_url)\n",
    "        except:\n",
    "            posters.append(None)\n",
    "        # тянем жанры\n",
    "        try:\n",
    "            ganre = soup.find_all('span', class_='badge__text')\n",
    "            helper = []\n",
    "            for i in ganre:\n",
    "                helper.append(i.text)\n",
    "            ganres.append(helper)\n",
    "        except:\n",
    "            ganres.append(None)\n",
    "        # тянем cast\n",
    "        try:\n",
    "            cast = soup.find_all('span', class_='p-truncate__inner js-toggle__truncate-inner')\n",
    "            a = []\n",
    "            for act in cast:\n",
    "                a.append(act.text)\n",
    "            casts.append(a[1:4])\n",
    "        except:\n",
    "            casts.append(None)\n",
    "        try:\n",
    "            description = soup.find('div', class_='text text_inline text_light_medium text_fixed valign_baseline p-movie-info__description-text').text\n",
    "            descriptions.append(description.replace('\\xa0', ' '))\n",
    "        except:\n",
    "            descriptions.append(None)\n",
    "        # год\n",
    "        try:\n",
    "            year = soup.find('span', class_='nowrap').text\n",
    "            years.append(year.split()[:3])\n",
    "        except:\n",
    "            years.append(None)\n",
    "        # imdb\n",
    "        try:\n",
    "            rating = float(soup.find('span', class_='text text_bold_huge text_fixed').text)\n",
    "            ratings.append(rating)\n",
    "        except:\n",
    "            ratings.append(None)\n",
    "\n",
    "        sources.append(url)\n",
    "\n",
    "        if (len(sources) % 500 == 0) or (l2[-1] == url):\n",
    "            data = pd.DataFrame({'url':sources,\n",
    "                                'poster':posters,\n",
    "                                'title':titles,\n",
    "                                'ganres':ganres,\n",
    "                                'description':descriptions,\n",
    "                                'year':years,\n",
    "                                'rating':ratings,\n",
    "                                'cast':casts})\n",
    "            print(f'{len(data)} saved')\n",
    "\n",
    "            name = f'l2/data_{s}.csv'\n",
    "\n",
    "            data.to_csv(name)\n",
    "\n",
    "            s += 1\n",
    "            titles = []\n",
    "            sources = []\n",
    "            descriptions = []\n",
    "            ganres = []\n",
    "            years = []\n",
    "            posters = []\n",
    "            casts = []\n",
    "            ratings = []\n",
    "\n",
    "    except requests.exceptions.RequestException as e:\n",
    "        print(f\"ссылка номер: {items_urls.index(url)}, ссылка: {url}, ошибка: {e}\")\n",
    "\n",
    "    "
   ]
  },
  {
   "cell_type": "code",
   "execution_count": 15,
   "metadata": {},
   "outputs": [
    {
     "data": {
      "text/plain": [
       "499"
      ]
     },
     "execution_count": 15,
     "metadata": {},
     "output_type": "execute_result"
    }
   ],
   "source": [
    "len(titles)"
   ]
  },
  {
   "cell_type": "code",
   "execution_count": 24,
   "metadata": {},
   "outputs": [],
   "source": [
    "indx = [2576]\n",
    "urls_false = []\n",
    "for ind in indx:\n",
    "    urls_false.append(items_urls[ind])"
   ]
  },
  {
   "cell_type": "code",
   "execution_count": 25,
   "metadata": {},
   "outputs": [
    {
     "name": "stderr",
     "output_type": "stream",
     "text": [
      "100%|██████████| 1/1 [00:00<00:00,  1.31it/s]"
     ]
    },
    {
     "name": "stdout",
     "output_type": "stream",
     "text": [
      "1 saved\n"
     ]
    },
    {
     "name": "stderr",
     "output_type": "stream",
     "text": [
      "\n"
     ]
    }
   ],
   "source": [
    "def info_get(urls: str):\n",
    "\n",
    "    titles = []\n",
    "    sources = []\n",
    "    descriptions = []\n",
    "    ganres = []\n",
    "    years = []\n",
    "    posters = []\n",
    "    casts = []\n",
    "    ratings = []\n",
    "\n",
    "    for url in tqdm(urls):\n",
    "        try:\n",
    "            text = requests.get(url).text\n",
    "            soup = BeautifulSoup(text, \"lxml\")\n",
    "            try:\n",
    "                title = soup.find(\"h1\", class_=\"text text_bold_giant color_white\").text\n",
    "\n",
    "                titles.append(title[: title.find(\" (сери\")])\n",
    "            except:\n",
    "                print(\"маслина\")\n",
    "                titles.append(None)\n",
    "            # тянем постер\n",
    "            try:\n",
    "                picture_url = soup.find(\"meta\", itemprop=\"image\")[\"content\"]\n",
    "                posters.append(picture_url)\n",
    "            except:\n",
    "                posters.append(None)\n",
    "            # тянем жанры\n",
    "            try:\n",
    "                ganre = soup.find_all(\"span\", class_=\"badge__text\")\n",
    "                helper = []\n",
    "                for i in ganre:\n",
    "                    helper.append(i.text)\n",
    "                ganres.append(helper)\n",
    "            except:\n",
    "                ganres.append(None)\n",
    "            # тянем cast\n",
    "            try:\n",
    "                cast = soup.find_all(\n",
    "                    \"span\", class_=\"p-truncate__inner js-toggle__truncate-inner\"\n",
    "                )\n",
    "                a = []\n",
    "                for act in cast:\n",
    "                    a.append(act.text)\n",
    "                casts.append(a[1:4])\n",
    "            except:\n",
    "                casts.append(None)\n",
    "            # тянем описание\n",
    "            try:\n",
    "                description = soup.find(\n",
    "                    \"div\",\n",
    "                    class_=\"text text_inline text_light_medium text_fixed valign_baseline p-movie-info__description-text\",\n",
    "                ).text\n",
    "                descriptions.append(description.replace(\"\\xa0\", \" \"))\n",
    "            except:\n",
    "                descriptions.append(None)\n",
    "            # год\n",
    "            try:\n",
    "                year = soup.find(\"span\", class_=\"nowrap\").text\n",
    "                years.append(year.split()[:3])\n",
    "            except:\n",
    "                years.append(None)\n",
    "            # imdb\n",
    "            try:\n",
    "                rating = float(\n",
    "                    soup.find(\"span\", class_=\"text text_bold_huge text_fixed\").text\n",
    "                )\n",
    "                ratings.append(rating)\n",
    "            except:\n",
    "                ratings.append(None)\n",
    "\n",
    "            sources.append(url)\n",
    "\n",
    "            if len(sources) == len(urls):\n",
    "                data = pd.DataFrame(\n",
    "                    {\n",
    "                        \"url\": sources,\n",
    "                        \"poster\": posters,\n",
    "                        \"title\": titles,\n",
    "                        \"ganres\": ganres,\n",
    "                        \"description\": descriptions,\n",
    "                        \"year\": years,\n",
    "                        \"rating\": ratings,\n",
    "                        \"cast\": casts,\n",
    "                    }\n",
    "                )\n",
    "\n",
    "                print(f\"{len(data)} saved\")\n",
    "                name = f\"l2/data_{666}.csv\"\n",
    "\n",
    "                data.to_csv(name)\n",
    "\n",
    "                titles = []\n",
    "                sources = []\n",
    "                descriptions = []\n",
    "                ganres = []\n",
    "                years = []\n",
    "                posters = []\n",
    "                casts = []\n",
    "                ratings = []\n",
    "\n",
    "        except requests.exceptions.RequestException as e:\n",
    "            print(f\"ссылка номер: {items_urls.index(url)}, ссылка: {url}, ошибка: {e}\")\n",
    "\n",
    "\n",
    "info_get(urls_false)"
   ]
  },
  {
   "cell_type": "code",
   "execution_count": 17,
   "metadata": {},
   "outputs": [
    {
     "name": "stdout",
     "output_type": "stream",
     "text": [
      "499 saved\n"
     ]
    }
   ],
   "source": [
    "data = pd.DataFrame({'url':sources,\n",
    "                                'poster':posters,\n",
    "                                'title':titles,\n",
    "                                'ganres':ganres,\n",
    "                                'description':descriptions,\n",
    "                                'year':years,\n",
    "                                'rating':ratings,\n",
    "                                'cast':casts})\n",
    "print(f'{len(data)} saved')\n",
    "name = f'l1/data_{5}.csv'\n",
    "\n",
    "data.to_csv(name)"
   ]
  },
  {
   "cell_type": "code",
   "execution_count": 13,
   "metadata": {},
   "outputs": [
    {
     "ename": "IndexError",
     "evalue": "list index out of range",
     "output_type": "error",
     "traceback": [
      "\u001b[0;31m---------------------------------------------------------------------------\u001b[0m",
      "\u001b[0;31mIndexError\u001b[0m                                Traceback (most recent call last)",
      "Cell \u001b[0;32mIn[13], line 1\u001b[0m\n\u001b[0;32m----> 1\u001b[0m \u001b[43ml1\u001b[49m\u001b[43m[\u001b[49m\u001b[38;5;241;43m2500\u001b[39;49m\u001b[43m]\u001b[49m\n",
      "\u001b[0;31mIndexError\u001b[0m: list index out of range"
     ]
    }
   ],
   "source": [
    "l1[2500]"
   ]
  },
  {
   "cell_type": "code",
   "execution_count": 8,
   "metadata": {},
   "outputs": [
    {
     "data": {
      "text/plain": [
       "2500"
      ]
     },
     "execution_count": 8,
     "metadata": {},
     "output_type": "execute_result"
    }
   ],
   "source": [
    "len(l1)"
   ]
  },
  {
   "cell_type": "code",
   "execution_count": 29,
   "metadata": {},
   "outputs": [],
   "source": [
    "import os\n",
    "\n",
    "directory = \"l1_l2\"  # 'l4'\n",
    "\n",
    "for i, filename in enumerate(os.listdir(directory)):\n",
    "    path = os.path.join(directory, filename)\n",
    "    if i == 0:\n",
    "        df = pd.read_csv(path).drop(\"Unnamed: 0\", axis=1)\n",
    "    else:\n",
    "        df2 = pd.read_csv(path).drop(\"Unnamed: 0\", axis=1)\n",
    "        df = pd.concat([df, df2])\n",
    "\n",
    "df.to_csv(\"l1_l2/first5000.csv\")"
   ]
  },
  {
   "cell_type": "code",
   "execution_count": 34,
   "metadata": {},
   "outputs": [
    {
     "name": "stdout",
     "output_type": "stream",
     "text": [
      "<class 'pandas.core.frame.DataFrame'>\n",
      "Index: 5000 entries, 0 to 5001\n",
      "Data columns (total 9 columns):\n",
      " #   Column       Non-Null Count  Dtype  \n",
      "---  ------       --------------  -----  \n",
      " 0   Unnamed: 0   5000 non-null   int64  \n",
      " 1   url          5000 non-null   object \n",
      " 2   poster       5000 non-null   object \n",
      " 3   title        5000 non-null   object \n",
      " 4   ganres       5000 non-null   object \n",
      " 5   description  5000 non-null   object \n",
      " 6   year         5000 non-null   object \n",
      " 7   rating       4017 non-null   float64\n",
      " 8   cast         5000 non-null   object \n",
      "dtypes: float64(1), int64(1), object(7)\n",
      "memory usage: 390.6+ KB\n"
     ]
    }
   ],
   "source": [
    "df = pd.read_csv(\"l1_l2/first5000.csv\")\n",
    "df.drop_duplicates(subset=[\"url\"]).info()"
   ]
  },
  {
   "cell_type": "code",
   "execution_count": 35,
   "metadata": {},
   "outputs": [],
   "source": [
    "df.to_csv(\"l1_l2/first5000drop.csv\")"
   ]
  },
  {
   "cell_type": "code",
   "execution_count": 36,
   "metadata": {},
   "outputs": [],
   "source": [
    "# Определите функцию для извлечения года\n",
    "def extract_first_year(year_string):\n",
    "    # Удаление символов квадратных скобок\n",
    "    year_string = year_string.strip(\"[]\")\n",
    "    # Разделение строки по запятой и извлечение первого элемента\n",
    "    first_year = year_string.split(\",\")[0].strip(\" '\\\"\")\n",
    "    return first_year"
   ]
  },
  {
   "cell_type": "code",
   "execution_count": 37,
   "metadata": {},
   "outputs": [],
   "source": [
    "df = pd.read_csv(\"data_mail.csv\")"
   ]
  },
  {
   "cell_type": "code",
   "execution_count": 38,
   "metadata": {},
   "outputs": [],
   "source": [
    "# Примените функцию ко всему столбцу 'year'\n",
    "df[\"year1\"] = df[\"year\"].apply(extract_first_year)"
   ]
  },
  {
   "cell_type": "code",
   "execution_count": 41,
   "metadata": {},
   "outputs": [],
   "source": [
    "import ast\n",
    "\n",
    "# Функция для преобразования строки в желаемый формат\n",
    "def format_genres(genre_string):\n",
    "    # Оцените строку как список, если она не в списковом формате\n",
    "    if isinstance(genre_string, str):\n",
    "        genres_list = ast.literal_eval(genre_string)\n",
    "    else:\n",
    "        genres_list = genre_string  # Если это уже список\n",
    "\n",
    "    # Преобразуйте каждый элемент списка в строку с заглавной буквы\n",
    "    genres_list = [genre.capitalize() for genre in genres_list]\n",
    "\n",
    "    # Объедините элементы списка в одну строку через запятую\n",
    "    return \", \".join(genres_list)"
   ]
  },
  {
   "cell_type": "code",
   "execution_count": 42,
   "metadata": {},
   "outputs": [],
   "source": [
    "# Примените функцию ко всему столбцу 'genres'\n",
    "df[\"genres\"] = df[\"ganres\"].apply(format_genres)"
   ]
  },
  {
   "cell_type": "code",
   "execution_count": 44,
   "metadata": {},
   "outputs": [],
   "source": [
    "# Создание новых столбцов на основе столбца 'cast'\n",
    "df['cast'] = df['cast'].apply(ast.literal_eval)  # Это только в случае, если данные в строковом формате списка\n",
    "df[['cast1', 'country', 'age']] = pd.DataFrame(df['cast'].tolist(), index=df.index)"
   ]
  },
  {
   "cell_type": "code",
   "execution_count": 56,
   "metadata": {},
   "outputs": [],
   "source": [
    "df.to_csv(\"kino_mail_proc.csv\")"
   ]
  },
  {
   "cell_type": "code",
   "execution_count": 54,
   "metadata": {},
   "outputs": [],
   "source": [
    "df[\"year1\"] = df[\"year1\"].astype(int)"
   ]
  },
  {
   "cell_type": "code",
   "execution_count": 55,
   "metadata": {},
   "outputs": [
    {
     "name": "stdout",
     "output_type": "stream",
     "text": [
      "<class 'pandas.core.frame.DataFrame'>\n",
      "RangeIndex: 9999 entries, 0 to 9998\n",
      "Data columns (total 13 columns):\n",
      " #   Column       Non-Null Count  Dtype  \n",
      "---  ------       --------------  -----  \n",
      " 0   url          9999 non-null   object \n",
      " 1   poster       9999 non-null   object \n",
      " 2   title        9999 non-null   object \n",
      " 3   ganres       9999 non-null   object \n",
      " 4   description  9999 non-null   object \n",
      " 5   year         9999 non-null   object \n",
      " 6   rating       4474 non-null   float64\n",
      " 7   cast         9999 non-null   object \n",
      " 8   year1        9999 non-null   int64  \n",
      " 9   genres       9999 non-null   object \n",
      " 10  cast1        9999 non-null   object \n",
      " 11  country      9998 non-null   object \n",
      " 12  age          9994 non-null   object \n",
      "dtypes: float64(1), int64(1), object(11)\n",
      "memory usage: 1015.7+ KB\n"
     ]
    }
   ],
   "source": [
    "df.info()"
   ]
  },
  {
   "cell_type": "code",
   "execution_count": 52,
   "metadata": {},
   "outputs": [
    {
     "data": {
      "text/plain": [
       "array([2004, 2021, 2014, 2013, 2016, 1999, 2023, 2018, 2011, 2020, 2022,\n",
       "       2001, 2015, 2010, 2006, 2012, 2019, 2005, 2017, 2008, 2002, 2007,\n",
       "       2009, 2003, 2024, 2000])"
      ]
     },
     "execution_count": 52,
     "metadata": {},
     "output_type": "execute_result"
    }
   ],
   "source": [
    "df[\"year1\"].unique()"
   ]
  },
  {
   "cell_type": "code",
   "execution_count": 57,
   "metadata": {},
   "outputs": [],
   "source": [
    "df = pd.read_csv(\"kino_mail_proc.csv\")"
   ]
  },
  {
   "cell_type": "code",
   "execution_count": 58,
   "metadata": {},
   "outputs": [
    {
     "name": "stdout",
     "output_type": "stream",
     "text": [
      "<class 'pandas.core.frame.DataFrame'>\n",
      "RangeIndex: 9999 entries, 0 to 9998\n",
      "Data columns (total 14 columns):\n",
      " #   Column       Non-Null Count  Dtype  \n",
      "---  ------       --------------  -----  \n",
      " 0   Unnamed: 0   9999 non-null   int64  \n",
      " 1   url          9999 non-null   object \n",
      " 2   poster       9999 non-null   object \n",
      " 3   title        9999 non-null   object \n",
      " 4   ganres       9999 non-null   object \n",
      " 5   description  9999 non-null   object \n",
      " 6   year         9999 non-null   object \n",
      " 7   rating       4474 non-null   float64\n",
      " 8   cast         9999 non-null   object \n",
      " 9   year1        9999 non-null   int64  \n",
      " 10  genres       9999 non-null   object \n",
      " 11  cast1        9999 non-null   object \n",
      " 12  country      9999 non-null   object \n",
      " 13  age          9997 non-null   object \n",
      "dtypes: float64(1), int64(2), object(11)\n",
      "memory usage: 1.1+ MB\n"
     ]
    }
   ],
   "source": [
    "df.info()"
   ]
  }
 ],
 "metadata": {
  "kernelspec": {
   "display_name": ".venv",
   "language": "python",
   "name": "python3"
  },
  "language_info": {
   "codemirror_mode": {
    "name": "ipython",
    "version": 3
   },
   "file_extension": ".py",
   "mimetype": "text/x-python",
   "name": "python",
   "nbconvert_exporter": "python",
   "pygments_lexer": "ipython3",
   "version": "3.11.5"
  }
 },
 "nbformat": 4,
 "nbformat_minor": 2
}
